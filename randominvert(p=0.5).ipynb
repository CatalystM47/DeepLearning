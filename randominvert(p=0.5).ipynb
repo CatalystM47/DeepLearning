{
  "nbformat": 4,
  "nbformat_minor": 0,
  "metadata": {
    "colab": {
      "name": "lec11.ipynb",
      "provenance": [],
      "collapsed_sections": [],
      "include_colab_link": true
    },
    "kernelspec": {
      "name": "python3",
      "display_name": "Python 3"
    },
    "language_info": {
      "name": "python"
    },
    "accelerator": "GPU"
  },
  "cells": [
    {
      "cell_type": "markdown",
      "metadata": {
        "id": "view-in-github",
        "colab_type": "text"
      },
      "source": [
        "<a href=\"https://colab.research.google.com/github/CatalystM47/Deep_Learning/blob/main/randominvert(p%3D0.5).ipynb\" target=\"_parent\"><img src=\"https://colab.research.google.com/assets/colab-badge.svg\" alt=\"Open In Colab\"/></a>"
      ]
    },
    {
      "cell_type": "markdown",
      "metadata": {
        "id": "9x2LbhDYQWj9"
      },
      "source": [
        "### Data Augmentation"
      ]
    },
    {
      "cell_type": "code",
      "metadata": {
        "id": "C2xKO2WHLxU0"
      },
      "source": [
        "import pandas as pd\n",
        "import numpy as np\n",
        "\n",
        "train_df = pd.read_csv(\"sign_mnist_train.csv\")\n",
        "valid_df = pd.read_csv(\"sign_mnist_valid.csv\")"
      ],
      "execution_count": 1,
      "outputs": []
    },
    {
      "cell_type": "code",
      "metadata": {
        "id": "zAUwPoChN7rh"
      },
      "source": [
        "y_train = train_df[\"label\"]\n",
        "y_valid = valid_df[\"label\"]"
      ],
      "execution_count": 2,
      "outputs": []
    },
    {
      "cell_type": "code",
      "metadata": {
        "id": "NugssEgTORoB"
      },
      "source": [
        "del train_df[\"label\"]\n",
        "del valid_df[\"label\"]\n",
        "\n",
        "x_train = train_df.values\n",
        "x_valid = valid_df.values"
      ],
      "execution_count": 3,
      "outputs": []
    },
    {
      "cell_type": "code",
      "metadata": {
        "id": "xv2_2hGbOdGB"
      },
      "source": [
        "from PIL import Image, ImageOps\n",
        "\n",
        "image = x_train[0,:].reshape(28,28)\n",
        "img_pil = Image.fromarray(np.uint8(image))"
      ],
      "execution_count": 4,
      "outputs": []
    },
    {
      "cell_type": "code",
      "metadata": {
        "id": "divKv_RzsUBi"
      },
      "source": [
        "class Invert(object):\n",
        "    \n",
        "    def invert(self):\n",
        "        if img.mode == 'LA':\n",
        "            l, a = img.split()\n",
        "            l = ImageOps.invert(l)\n",
        "            inv = Image.merge('LA', (l, a))\n",
        "        else:\n",
        "            inv = ImageOps.invert(img)\n",
        "        return inv\n",
        "\n",
        "    def __call__(self, img):\n",
        "        return self.invert(img)"
      ],
      "execution_count": 5,
      "outputs": []
    },
    {
      "cell_type": "code",
      "metadata": {
        "id": "HdcgZpvUOgj_"
      },
      "source": [
        "import torchvision.transforms as transforms\n",
        "transform = transforms.Compose(\n",
        "    [transforms.Resize(32),\n",
        "     transforms.RandomCrop(28),\n",
        "     transforms.RandomInvert(p=0.5)]\n",
        ")"
      ],
      "execution_count": 6,
      "outputs": []
    },
    {
      "cell_type": "code",
      "metadata": {
        "colab": {
          "base_uri": "https://localhost:8080/",
          "height": 45
        },
        "id": "hJKdZWHiPtLm",
        "outputId": "2607fa39-a667-4f24-c8b5-0617c9b4f9c7"
      },
      "source": [
        "img_pil"
      ],
      "execution_count": 7,
      "outputs": [
        {
          "output_type": "execute_result",
          "data": {
            "image/png": "[encoded data removed]",
            "text/plain": [
              "<PIL.Image.Image image mode=L size=28x28 at 0x7FA55FD9DBD0>"
            ]
          },
          "metadata": {},
          "execution_count": 7
        }
      ]
    },
    {
      "cell_type": "code",
      "metadata": {
        "colab": {
          "base_uri": "https://localhost:8080/",
          "height": 45
        },
        "id": "vFPkmbqBPvfm",
        "outputId": "3c5ac995-dc93-4db8-9bc0-6931b6fee1a8"
      },
      "source": [
        "transform(img_pil)"
      ],
      "execution_count": 8,
      "outputs": [
        {
          "output_type": "execute_result",
          "data": {
            "image/png": "[encoded data removed]",
            "text/plain": [
              "<PIL.Image.Image image mode=L size=28x28 at 0x7FA559339210>"
            ]
          },
          "metadata": {},
          "execution_count": 8
        }
      ]
    },
    {
      "cell_type": "markdown",
      "metadata": {
        "id": "-RhE8VXbQams"
      },
      "source": [
        "### 1. Data preparation"
      ]
    },
    {
      "cell_type": "code",
      "metadata": {
        "id": "ppT5MGDcQc0E"
      },
      "source": [
        "import torch\n",
        "from torch.utils.data import Dataset, DataLoader"
      ],
      "execution_count": 9,
      "outputs": []
    },
    {
      "cell_type": "code",
      "metadata": {
        "id": "FjUNDOarQnBh"
      },
      "source": [
        "class ASL_Dataset(Dataset):\n",
        "    def __init__(self, path, transform=None):\n",
        "        super(ASL_Dataset, self).__init__()\n",
        "\n",
        "        train_df = pd.read_csv(path)\n",
        "        y_train = train_df[\"label\"]\n",
        "        del train_df[\"label\"]\n",
        "        x_train = train_df.values\n",
        "\n",
        "        self.x_train = x_train   # Nx784\n",
        "        self.y_train = y_train\n",
        "        self.transform = transform\n",
        "\n",
        "    def __getitem__(self, index):\n",
        "        x_train_sample = np.uint8( self.x_train[index].reshape(28,28) )\n",
        "\n",
        "        if self.transform:\n",
        "            x_train_pil = Image.fromarray(x_train_sample)\n",
        "            x_train_np = np.array(self.transform(x_train_pil))\n",
        "            x_train_tensor = torch.tensor( x_train_np[np.newaxis,:,:] ).float() # 1x28x28\n",
        "        else:\n",
        "            x_train_tensor = torch.tensor( x_train_sample[np.newaxis,:,:] ).float()\n",
        "\n",
        "        y_train_tensor = torch.tensor( self.y_train[index] )\n",
        "\n",
        "        return x_train_tensor, y_train_tensor\n",
        "\n",
        "    def __len__(self):\n",
        "        return self.x_train.shape[0]"
      ],
      "execution_count": 10,
      "outputs": []
    },
    {
      "cell_type": "code",
      "metadata": {
        "id": "AV5rIlg0Ts47"
      },
      "source": [
        "training_data = ASL_Dataset(\"sign_mnist_train.csv\", transform=transform)\n",
        "validation_data = ASL_Dataset(\"sign_mnist_valid.csv\")"
      ],
      "execution_count": 11,
      "outputs": []
    },
    {
      "cell_type": "code",
      "metadata": {
        "id": "D8lZDdWMUA-V"
      },
      "source": [
        "train_loader = DataLoader(dataset=training_data, batch_size=1000, shuffle=True)\n",
        "validation_loader = DataLoader(dataset=validation_data, batch_size=1000, shuffle=False)"
      ],
      "execution_count": 12,
      "outputs": []
    },
    {
      "cell_type": "markdown",
      "metadata": {
        "id": "SUZCounAUePM"
      },
      "source": [
        "### 2. Constructing a convolutional neural network"
      ]
    },
    {
      "cell_type": "code",
      "metadata": {
        "id": "mhR4qdw4Ugik"
      },
      "source": [
        "import torch.nn as nn"
      ],
      "execution_count": 13,
      "outputs": []
    },
    {
      "cell_type": "code",
      "metadata": {
        "id": "Widh1enWZPIi"
      },
      "source": [
        "class ConvNet(nn.Module):\n",
        "    def __init__(self):\n",
        "        super(ConvNet, self).__init__()\n",
        "        self.conv1 = nn.Conv2d(1, 16, 3, padding=1)\n",
        "        self.conv2 = nn.Conv2d(16, 32, 3, padding=1)\n",
        "        self.conv3 = nn.Conv2d(32, 32, 3, padding=1)\n",
        "        self.relu = nn.ReLU()\n",
        "        self.pool = nn.MaxPool2d(2,2)\n",
        "        self.fc = nn.Linear(32*7*7, 24)\n",
        "\n",
        "    def forward(self, x):  ## 1x28x28\n",
        "        x = self.conv1(x)   ## 16x28x28\n",
        "        x = self.relu(x)\n",
        "        x = self.pool(x)    ## 16x14x14\n",
        "\n",
        "        x = self.conv2(x)   ## 32x14x14\n",
        "        x = self.relu(x)\n",
        "        x = self.pool(x)    ## 32x7x7\n",
        "\n",
        "        x = self.conv3(x)   ## 32x7x7\n",
        "        x = self.relu(x)\n",
        "\n",
        "        x = x.view(-1, 32*7*7)\n",
        "        x = self.fc(x)\n",
        "\n",
        "        return x"
      ],
      "execution_count": 14,
      "outputs": []
    },
    {
      "cell_type": "code",
      "metadata": {
        "id": "oqDkyiHycTYF"
      },
      "source": [
        "convnet = ConvNet()"
      ],
      "execution_count": 15,
      "outputs": []
    },
    {
      "cell_type": "markdown",
      "metadata": {
        "id": "MzrBchVmcYRh"
      },
      "source": [
        "### 3. Loss function and Optimization method"
      ]
    },
    {
      "cell_type": "code",
      "metadata": {
        "id": "DcblnExvcWcI"
      },
      "source": [
        "loss_function = nn.CrossEntropyLoss()\n",
        "optimizer = torch.optim.Adam(convnet.parameters(), lr=0.001)"
      ],
      "execution_count": 16,
      "outputs": []
    },
    {
      "cell_type": "markdown",
      "metadata": {
        "id": "T4zAj82GcXyT"
      },
      "source": [
        "### 4. Training of a neural network "
      ]
    },
    {
      "cell_type": "code",
      "metadata": {
        "colab": {
          "base_uri": "https://localhost:8080/"
        },
        "id": "FoS1fyNfcxz5",
        "outputId": "4d647d63-cb38-455c-8c1d-3a2d96c97cb1"
      },
      "source": [
        "for epoch in range(20):\n",
        "    loss_val = 0\n",
        "    for itr, data in enumerate(train_loader):\n",
        "        optimizer.zero_grad()\n",
        "\n",
        "        inputs, labels = data\n",
        "\n",
        "        pred = convnet(inputs)\n",
        "        loss = loss_function(pred, labels)\n",
        "\n",
        "        loss.backward()\n",
        "        optimizer.step()\n",
        "\n",
        "        loss_val += loss.item()\n",
        "\n",
        "    print(\"Epoch:\", epoch+1, \"  , Loss:\", loss_val)"
      ],
      "execution_count": 17,
      "outputs": [
        {
          "output_type": "stream",
          "name": "stderr",
          "text": [
            "/usr/local/lib/python3.7/dist-packages/torch/nn/functional.py:718: UserWarning: Named tensors and all their associated APIs are an experimental feature and subject to change. Please do not use them for anything important until they are released as stable. (Triggered internally at  /pytorch/c10/core/TensorImpl.h:1156.)\n",
            "  return torch.max_pool2d(input, kernel_size, stride, padding, dilation, ceil_mode)\n"
          ]
        },
        {
          "output_type": "stream",
          "name": "stdout",
          "text": [
            "Epoch: 1   , Loss: 98.1499764919281\n",
            "Epoch: 2   , Loss: 41.771969974040985\n",
            "Epoch: 3   , Loss: 20.474313259124756\n",
            "Epoch: 4   , Loss: 12.865920215845108\n",
            "Epoch: 5   , Loss: 8.541525319218636\n",
            "Epoch: 6   , Loss: 5.1850966066122055\n",
            "Epoch: 7   , Loss: 3.599451296031475\n",
            "Epoch: 8   , Loss: 2.742488496005535\n",
            "Epoch: 9   , Loss: 2.182688742876053\n",
            "Epoch: 10   , Loss: 1.3899558931589127\n",
            "Epoch: 11   , Loss: 1.1000450160354376\n",
            "Epoch: 12   , Loss: 0.9056957606226206\n",
            "Epoch: 13   , Loss: 0.8207879792898893\n",
            "Epoch: 14   , Loss: 0.7531891604885459\n",
            "Epoch: 15   , Loss: 0.5787338819354773\n",
            "Epoch: 16   , Loss: 0.4027267172932625\n",
            "Epoch: 17   , Loss: 0.3254966293461621\n",
            "Epoch: 18   , Loss: 0.2904802500270307\n",
            "Epoch: 19   , Loss: 0.2807314214296639\n",
            "Epoch: 20   , Loss: 0.24550313595682383\n"
          ]
        }
      ]
    },
    {
      "cell_type": "markdown",
      "metadata": {
        "id": "uloa08LFhO1f"
      },
      "source": [
        "### 5. Prediction and evaludation for a test set"
      ]
    },
    {
      "cell_type": "code",
      "metadata": {
        "colab": {
          "base_uri": "https://localhost:8080/"
        },
        "id": "LhJsd7lhhLvi",
        "outputId": "bdd88fe3-942a-438a-a1cf-4bfc3ecdd8e3"
      },
      "source": [
        "pred_list = []\n",
        "label_list = []\n",
        "for itr, data in enumerate(validation_loader):\n",
        "    inputs, labels = data\n",
        "    pred_test = convnet(inputs)\n",
        "    pred_category = torch.argmax(pred_test, dim=1)\n",
        "\n",
        "    pred_list = pred_list + list(pred_category)    \n",
        "    label_list = label_list + list(labels)\n",
        "\n",
        "accu = np.mean( np.array(pred_list)==np.array(label_list) )\n",
        "print(\"Test accuracy:\", accu)"
      ],
      "execution_count": 18,
      "outputs": [
        {
          "output_type": "stream",
          "name": "stdout",
          "text": [
            "Test accuracy: 0.2405186837702175\n"
          ]
        }
      ]
    }
  ]
}