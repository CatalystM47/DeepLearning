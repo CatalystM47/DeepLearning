{
  "nbformat": 4,
  "nbformat_minor": 0,
  "metadata": {
    "colab": {
      "name": "hw5_202150756_문예총.ipynb",
      "provenance": [],
      "collapsed_sections": [],
      "include_colab_link": true
    },
    "kernelspec": {
      "name": "python3",
      "display_name": "Python 3"
    },
    "language_info": {
      "name": "python"
    },
    "accelerator": "GPU"
  },
  "cells": [
    {
      "cell_type": "markdown",
      "metadata": {
        "id": "view-in-github",
        "colab_type": "text"
      },
      "source": [
        "<a href=\"https://colab.research.google.com/github/CatalystM47/Deep_Learning/blob/main/Autoencoder.ipynb\" target=\"_parent\"><img src=\"https://colab.research.google.com/assets/colab-badge.svg\" alt=\"Open In Colab\"/></a>"
      ]
    },
    {
      "cell_type": "markdown",
      "metadata": {
        "id": "nJQKcSAmthtt"
      },
      "source": [
        "### 1. Data preparation"
      ]
    },
    {
      "cell_type": "code",
      "metadata": {
        "id": "AEWLms1fteRy"
      },
      "source": [
        "import numpy as np\n",
        "import torch\n",
        "import torch.nn as nn\n",
        "import torch.optim as optim\n",
        "import matplotlib.pyplot as plt\n",
        "\n",
        "from torchvision.datasets import MNIST\n",
        "import torchvision.transforms as transforms"
      ],
      "execution_count": 1,
      "outputs": []
    },
    {
      "cell_type": "code",
      "metadata": {
        "id": "NZ-AILe6t68g"
      },
      "source": [
        "mnist_train = MNIST('./', train=True, transform = transforms.ToTensor(), download = True)\n",
        "mnist_test = MNIST('./', train=False, transform = transforms.ToTensor(), download = True)"
      ],
      "execution_count": 2,
      "outputs": []
    },
    {
      "cell_type": "code",
      "metadata": {
        "id": "nbrBDgryuX1-"
      },
      "source": [
        "train_loader = torch.utils.data.DataLoader(mnist_train, batch_size=256, shuffle=True)\n",
        "test_loader = torch.utils.data.DataLoader(mnist_test, batch_size=256, shuffle=False)"
      ],
      "execution_count": 3,
      "outputs": []
    },
    {
      "cell_type": "markdown",
      "metadata": {
        "id": "m_WCXe8VuxTx"
      },
      "source": [
        "### 2. Constructing a neural network"
      ]
    },
    {
      "cell_type": "code",
      "metadata": {
        "id": "E9IgHDd2uw5S"
      },
      "source": [
        "class Encoder(nn.Module):\n",
        "    def __init__(self):\n",
        "        super(Encoder, self).__init__()\n",
        "        self.fc1 = nn.Linear(784, 500)\n",
        "        self.fc2 = nn.Linear(500, 300)\n",
        "        self.fc3 = nn.Linear(300, 2)\n",
        "        self.relu = nn.ReLU()\n",
        "\n",
        "    def forward(self, x): # x : B x 1 x 28 x 28 -> B x 784\n",
        "        out = x.view(-1, 784)\n",
        "        out = self.relu(self.fc1(out))\n",
        "        out = self.relu(self.fc2(out))\n",
        "        out = self.fc3(out)\n",
        "\n",
        "        return out"
      ],
      "execution_count": 4,
      "outputs": []
    },
    {
      "cell_type": "code",
      "metadata": {
        "id": "nOVPpUQyuw2Y"
      },
      "source": [
        "class Decoder(nn.Module):\n",
        "    def __init__(self):\n",
        "        super(Decoder, self).__init__()\n",
        "        self.fc1 = nn.Linear(2, 300)\n",
        "        self.fc2 = nn.Linear(300, 500)\n",
        "        self.fc3 = nn.Linear(500, 784)\n",
        "        self.relu = nn.ReLU()\n",
        "        self.sigmoid = nn.Sigmoid()\n",
        "\n",
        "    def forward(self, x): # x : B x 2\n",
        "        out = self.relu(self.fc1(x))\n",
        "        out = self.relu(self.fc2(out))\n",
        "        out = self.fc3(out) # out : B x 784 -> B x 1 x 28 x 28\n",
        "        out = self.sigmoid(out)\n",
        "        out = out.view(-1, 1, 28, 28)\n",
        "\n",
        "        return out"
      ],
      "execution_count": 5,
      "outputs": []
    },
    {
      "cell_type": "code",
      "metadata": {
        "id": "-BhJMD4rwopt"
      },
      "source": [
        "device = torch.device(\"cuda:0\")\n",
        "encoder = Encoder().to(device)\n",
        "decoder = Decoder().to(device)"
      ],
      "execution_count": 6,
      "outputs": []
    },
    {
      "cell_type": "markdown",
      "metadata": {
        "id": "xqdqqC6bxR0h"
      },
      "source": [
        "### 3. Loss function and optimization method"
      ]
    },
    {
      "cell_type": "code",
      "metadata": {
        "id": "RZxgbAJ6xPyj"
      },
      "source": [
        "parameters = list(encoder.parameters()) + list(decoder.parameters())\n",
        "\n",
        "loss_func = nn.MSELoss()\n",
        "optimizer = torch.optim.Adam(parameters, lr=0.001)"
      ],
      "execution_count": 7,
      "outputs": []
    },
    {
      "cell_type": "markdown",
      "metadata": {
        "id": "xxD4AckyxpjR"
      },
      "source": [
        "### 4. Training the neural network"
      ]
    },
    {
      "cell_type": "code",
      "metadata": {
        "colab": {
          "base_uri": "https://localhost:8080/"
        },
        "id": "9RIOak4yxoTN",
        "outputId": "99dedc3b-ac28-4338-85d2-f664594e5aa0"
      },
      "source": [
        "for epoch in range(20):\n",
        "    loss_val = 0\n",
        "    for itr, data in enumerate(train_loader):\n",
        "        optimizer.zero_grad()\n",
        "\n",
        "        image, label = data\n",
        "        image = image.to(device)\n",
        "\n",
        "        output = encoder(image)\n",
        "        output = decoder(output)\n",
        "\n",
        "        loss = loss_func(output, image)\n",
        "        loss.backward()\n",
        "        optimizer.step()\n",
        "\n",
        "        loss_val += loss.item()\n",
        "\n",
        "    print(\"Epoch:\", epoch+1, \"  , Loss:\", loss_val)"
      ],
      "execution_count": 8,
      "outputs": [
        {
          "output_type": "stream",
          "name": "stdout",
          "text": [
            "Epoch: 1   , Loss: 14.65290330350399\n",
            "Epoch: 2   , Loss: 11.028704795986414\n",
            "Epoch: 3   , Loss: 10.24109261110425\n",
            "Epoch: 4   , Loss: 9.79419357329607\n",
            "Epoch: 5   , Loss: 9.52518805116415\n",
            "Epoch: 6   , Loss: 9.321895077824593\n",
            "Epoch: 7   , Loss: 9.168459095060825\n",
            "Epoch: 8   , Loss: 9.075794480741024\n",
            "Epoch: 9   , Loss: 8.970558628439903\n",
            "Epoch: 10   , Loss: 8.858414482325315\n",
            "Epoch: 11   , Loss: 8.800855439156294\n",
            "Epoch: 12   , Loss: 8.734104461967945\n",
            "Epoch: 13   , Loss: 8.670351352542639\n",
            "Epoch: 14   , Loss: 8.631221372634172\n",
            "Epoch: 15   , Loss: 8.59399951249361\n",
            "Epoch: 16   , Loss: 8.525191556662321\n",
            "Epoch: 17   , Loss: 8.490202456712723\n",
            "Epoch: 18   , Loss: 8.462747048586607\n",
            "Epoch: 19   , Loss: 8.411289621144533\n",
            "Epoch: 20   , Loss: 8.356858786195517\n"
          ]
        }
      ]
    },
    {
      "cell_type": "code",
      "metadata": {
        "colab": {
          "base_uri": "https://localhost:8080/",
          "height": 1000
        },
        "id": "yLZLIzNNzWsK",
        "outputId": "cf3873be-31b9-4970-e101-9561bd2a2c7d"
      },
      "source": [
        "out_img = torch.squeeze(output.cpu().data)\n",
        "\n",
        "for i in range(8):\n",
        "    plt.subplot(1, 2, 1)\n",
        "    plt.imshow(torch.squeeze(image[i]).cpu().numpy(), cmap='gray')\n",
        "    plt.subplot(1, 2, 2)\n",
        "    plt.imshow(out_img[i].numpy(), cmap='gray')\n",
        "    plt.show()"
      ],
      "execution_count": 9,
      "outputs": [
        {
          "output_type": "display_data",
          "data": {
            "image/png": "[encoded data removed]",
            "text/plain": [
              "<Figure size 432x288 with 2 Axes>"
            ]
          },
          "metadata": {
            "needs_background": "light"
          }
        },
        {
          "output_type": "display_data",
          "data": {
            "image/png": "[encoded data removed]",
            "text/plain": [
              "<Figure size 432x288 with 2 Axes>"
            ]
          },
          "metadata": {
            "needs_background": "light"
          }
        },
        {
          "output_type": "display_data",
          "data": {
            "image/png": "[encoded data removed]",
            "text/plain": [
              "<Figure size 432x288 with 2 Axes>"
            ]
          },
          "metadata": {
            "needs_background": "light"
          }
        },
        {
          "output_type": "display_data",
          "data": {
            "image/png": "[encoded data removed]",
            "text/plain": [
              "<Figure size 432x288 with 2 Axes>"
            ]
          },
          "metadata": {
            "needs_background": "light"
          }
        },
        {
          "output_type": "display_data",
          "data": {
            "image/png": "[encoded data removed]",
            "text/plain": [
              "<Figure size 432x288 with 2 Axes>"
            ]
          },
          "metadata": {
            "needs_background": "light"
          }
        },
        {
          "output_type": "display_data",
          "data": {
            "image/png": "[encoded data removed]",
            "text/plain": [
              "<Figure size 432x288 with 2 Axes>"
            ]
          },
          "metadata": {
            "needs_background": "light"
          }
        },
        {
          "output_type": "display_data",
          "data": {
            "image/png": "[encoded data removed]",
            "text/plain": [
              "<Figure size 432x288 with 2 Axes>"
            ]
          },
          "metadata": {
            "needs_background": "light"
          }
        },
        {
          "output_type": "display_data",
          "data": {
            "image/png": "[encoded data removed]",
            "text/plain": [
              "<Figure size 432x288 with 2 Axes>"
            ]
          },
          "metadata": {
            "needs_background": "light"
          }
        }
      ]
    },
    {
      "cell_type": "markdown",
      "metadata": {
        "id": "e2d8Um5q0DW8"
      },
      "source": [
        "### 5. Image generation"
      ]
    },
    {
      "cell_type": "code",
      "metadata": {
        "id": "f_rMkG2wyfMy"
      },
      "source": [
        "# encoder: Bx2\n",
        "latent_vec = torch.rand(5, 2).to(device)\n",
        "latent_vec = latent_vec*(-1)\n",
        "generated_sample = decoder(latent_vec)"
      ],
      "execution_count": 26,
      "outputs": []
    },
    {
      "cell_type": "code",
      "metadata": {
        "colab": {
          "base_uri": "https://localhost:8080/",
          "height": 1000
        },
        "id": "HoLrGT6M0hWV",
        "outputId": "23ed4e7d-bdd6-44ca-8466-b47a788a0422"
      },
      "source": [
        "for i in range(5):\n",
        "    plt.imshow(torch.squeeze(generated_sample)[i].cpu().detach().numpy(), cmap='gray')\n",
        "    plt.show()"
      ],
      "execution_count": 27,
      "outputs": [
        {
          "output_type": "display_data",
          "data": {
            "image/png": "[encoded data removed]",
            "text/plain": [
              "<Figure size 432x288 with 1 Axes>"
            ]
          },
          "metadata": {
            "needs_background": "light"
          }
        },
        {
          "output_type": "display_data",
          "data": {
            "image/png": "[encoded data removed]",
            "text/plain": [
              "<Figure size 432x288 with 1 Axes>"
            ]
          },
          "metadata": {
            "needs_background": "light"
          }
        },
        {
          "output_type": "display_data",
          "data": {
            "image/png": "[encoded data removed]",
            "text/plain": [
              "<Figure size 432x288 with 1 Axes>"
            ]
          },
          "metadata": {
            "needs_background": "light"
          }
        },
        {
          "output_type": "display_data",
          "data": {
            "image/png": "[encoded data removed]",
            "text/plain": [
              "<Figure size 432x288 with 1 Axes>"
            ]
          },
          "metadata": {
            "needs_background": "light"
          }
        },
        {
          "output_type": "display_data",
          "data": {
            "image/png": "[encoded data removed]",
            "text/plain": [
              "<Figure size 432x288 with 1 Axes>"
            ]
          },
          "metadata": {
            "needs_background": "light"
          }
        }
      ]
    }
  ]
}