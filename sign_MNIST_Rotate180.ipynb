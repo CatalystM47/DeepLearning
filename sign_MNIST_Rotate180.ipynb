{
  "nbformat": 4,
  "nbformat_minor": 0,
  "metadata": {
    "accelerator": "GPU",
    "colab": {
      "name": "lec11.ipynb",
      "provenance": [],
      "collapsed_sections": [],
      "include_colab_link": true
    },
    "kernelspec": {
      "display_name": "Python 3",
      "name": "python3"
    },
    "language_info": {
      "name": "python"
    }
  },
  "cells": [
    {
      "cell_type": "markdown",
      "metadata": {
        "id": "view-in-github",
        "colab_type": "text"
      },
      "source": [
        "<a href=\"https://colab.research.google.com/github/CatalystM47/Deep_Learning/blob/main/sign_MNIST_Rotate180.ipynb\" target=\"_parent\"><img src=\"https://colab.research.google.com/assets/colab-badge.svg\" alt=\"Open In Colab\"/></a>"
      ]
    },
    {
      "cell_type": "markdown",
      "metadata": {
        "id": "9x2LbhDYQWj9"
      },
      "source": [
        "### Data Augmentation"
      ]
    },
    {
      "cell_type": "code",
      "metadata": {
        "id": "C2xKO2WHLxU0"
      },
      "source": [
        "import pandas as pd\n",
        "import numpy as np\n",
        "\n",
        "train_df = pd.read_csv(\"sign_mnist_train.csv\")\n",
        "valid_df = pd.read_csv(\"sign_mnist_valid.csv\")"
      ],
      "execution_count": null,
      "outputs": []
    },
    {
      "cell_type": "code",
      "metadata": {
        "colab": {
          "base_uri": "https://localhost:8080/"
        },
        "id": "I1XbyNzY6Hnz",
        "outputId": "280c02ce-8e8a-449d-bd09-d6bd3b92abd2"
      },
      "source": [
        "print(\"Number of training data : \", len(train_df))\n",
        "print(\"Number of test data : \", len(valid_df))"
      ],
      "execution_count": null,
      "outputs": [
        {
          "name": "stdout",
          "output_type": "stream",
          "text": [
            "Number of training data :  7255\n",
            "Number of test data :  7172\n"
          ]
        }
      ]
    },
    {
      "cell_type": "code",
      "metadata": {
        "id": "zAUwPoChN7rh"
      },
      "source": [
        "y_train = train_df[\"label\"]\n",
        "y_valid = valid_df[\"label\"]"
      ],
      "execution_count": null,
      "outputs": []
    },
    {
      "cell_type": "code",
      "metadata": {
        "colab": {
          "base_uri": "https://localhost:8080/"
        },
        "id": "EJ1K7Wp4jmFU",
        "outputId": "14f4a8cf-43b6-4721-8fbf-69c264b873eb"
      },
      "source": [
        "print(y_train)\n",
        "print(y_valid)"
      ],
      "execution_count": null,
      "outputs": [
        {
          "name": "stdout",
          "output_type": "stream",
          "text": [
            "0        3\n",
            "1        6\n",
            "2        2\n",
            "3        2\n",
            "4       12\n",
            "        ..\n",
            "7250     9\n",
            "7251    14\n",
            "7252     1\n",
            "7253    23\n",
            "7254     9\n",
            "Name: label, Length: 7255, dtype: int64\n",
            "0        6\n",
            "1        5\n",
            "2        9\n",
            "3        0\n",
            "4        3\n",
            "        ..\n",
            "7167     1\n",
            "7168    11\n",
            "7169     2\n",
            "7170     4\n",
            "7171     2\n",
            "Name: label, Length: 7172, dtype: int64\n"
          ]
        }
      ]
    },
    {
      "cell_type": "code",
      "metadata": {
        "id": "NugssEgTORoB"
      },
      "source": [
        "del train_df[\"label\"]\n",
        "del valid_df[\"label\"]\n",
        "\n",
        "x_train = train_df.values\n",
        "x_valid = valid_df.values"
      ],
      "execution_count": null,
      "outputs": []
    },
    {
      "cell_type": "code",
      "metadata": {
        "colab": {
          "base_uri": "https://localhost:8080/"
        },
        "id": "HOPu0zTSku5v",
        "outputId": "c3458de8-2866-4157-c878-67b73878098c"
      },
      "source": [
        "print(x_train)\n",
        "print(x_valid)"
      ],
      "execution_count": null,
      "outputs": [
        {
          "name": "stdout",
          "output_type": "stream",
          "text": [
            "[[107. 118. 127. ... 204. 203. 202.]\n",
            " [155. 157. 156. ... 103. 135. 149.]\n",
            " [187. 188. 188. ... 195. 194. 195.]\n",
            " ...\n",
            " [ 59.  93. 111. ... 168. 176. 165.]\n",
            " [179. 182. 185. ... 176. 199. 218.]\n",
            " [ 66.  80.  87. ...  nan  nan  nan]]\n",
            "[[149 149 150 ... 112 120 107]\n",
            " [126 128 131 ... 184 182 180]\n",
            " [ 85  88  92 ... 225 224 222]\n",
            " ...\n",
            " [190 191 190 ... 211 209 208]\n",
            " [201 205 208 ...  67  70  63]\n",
            " [173 174 173 ... 195 193 192]]\n"
          ]
        }
      ]
    },
    {
      "cell_type": "code",
      "metadata": {
        "id": "neT2kbTBrQEq"
      },
      "source": [
        "x_train2 = np.flip(x_train)"
      ],
      "execution_count": null,
      "outputs": []
    },
    {
      "cell_type": "code",
      "metadata": {
        "colab": {
          "base_uri": "https://localhost:8080/"
        },
        "id": "Um26SKR-tdbq",
        "outputId": "d41fcfaa-ef8d-41c0-a642-1ae82e8c121a"
      },
      "source": [
        "x_train2"
      ],
      "execution_count": null,
      "outputs": [
        {
          "data": {
            "text/plain": [
              "array([[ nan,  nan,  nan, ...,  87.,  80.,  66.],\n",
              "       [218., 199., 176., ..., 185., 182., 179.],\n",
              "       [165., 176., 168., ..., 111.,  93.,  59.],\n",
              "       ...,\n",
              "       [195., 194., 195., ..., 188., 188., 187.],\n",
              "       [149., 135., 103., ..., 156., 157., 155.],\n",
              "       [202., 203., 204., ..., 127., 118., 107.]])"
            ]
          },
          "execution_count": 9,
          "metadata": {},
          "output_type": "execute_result"
        }
      ]
    },
    {
      "cell_type": "code",
      "metadata": {
        "id": "-5GpEZpgrobT"
      },
      "source": [
        "apeend_train = np.vstack([x_train, x_train2])"
      ],
      "execution_count": null,
      "outputs": []
    },
    {
      "cell_type": "code",
      "metadata": {
        "colab": {
          "base_uri": "https://localhost:8080/"
        },
        "id": "RVyom36gs4pY",
        "outputId": "7aacddf6-b145-4f19-e5e4-c9b54248601a"
      },
      "source": [
        "len(apeend_train)"
      ],
      "execution_count": null,
      "outputs": [
        {
          "data": {
            "text/plain": [
              "14510"
            ]
          },
          "execution_count": 11,
          "metadata": {},
          "output_type": "execute_result"
        }
      ]
    },
    {
      "cell_type": "code",
      "metadata": {
        "colab": {
          "base_uri": "https://localhost:8080/"
        },
        "id": "LprNO7gCuTtn",
        "outputId": "bea7a118-9e11-4746-81eb-03b1a4045161"
      },
      "source": [
        "apeend_train"
      ],
      "execution_count": null,
      "outputs": [
        {
          "data": {
            "text/plain": [
              "array([[107., 118., 127., ..., 204., 203., 202.],\n",
              "       [155., 157., 156., ..., 103., 135., 149.],\n",
              "       [187., 188., 188., ..., 195., 194., 195.],\n",
              "       ...,\n",
              "       [195., 194., 195., ..., 188., 188., 187.],\n",
              "       [149., 135., 103., ..., 156., 157., 155.],\n",
              "       [202., 203., 204., ..., 127., 118., 107.]])"
            ]
          },
          "execution_count": 12,
          "metadata": {},
          "output_type": "execute_result"
        }
      ]
    },
    {
      "cell_type": "code",
      "metadata": {
        "id": "xv2_2hGbOdGB"
      },
      "source": [
        "from PIL import Image\n",
        "\n",
        "image = apeend_train[0,:].reshape(28,28)\n",
        "img_pil = Image.fromarray(np.uint8(image))"
      ],
      "execution_count": null,
      "outputs": []
    },
    {
      "cell_type": "code",
      "metadata": {
        "colab": {
          "base_uri": "https://localhost:8080/"
        },
        "id": "FY6GQ7k7lafb",
        "outputId": "5a456d87-ad30-45e8-8d13-24ea0ce57b03"
      },
      "source": [
        "image"
      ],
      "execution_count": null,
      "outputs": [
        {
          "data": {
            "text/plain": [
              "array([[107., 118., 127., 134., 139., 143., 146., 150., 153., 156., 158.,\n",
              "        160., 163., 165., 159., 166., 168., 170., 170., 171., 171., 171.,\n",
              "        172., 171., 171., 170., 170., 169.],\n",
              "       [111., 121., 129., 135., 141., 144., 148., 151., 154., 157., 160.,\n",
              "        163., 164., 170., 119., 152., 171., 171., 170., 171., 172., 172.,\n",
              "        172., 172., 172., 171., 171., 170.],\n",
              "       [113., 123., 131., 137., 142., 145., 150., 152., 155., 158., 161.,\n",
              "        163., 164., 172., 105., 142., 170., 171., 171., 171., 172., 172.,\n",
              "        173., 173., 172., 171., 171., 171.],\n",
              "       [116., 125., 133., 139., 143., 146., 151., 153., 156., 159., 162.,\n",
              "        163., 167., 167.,  95., 144., 171., 172., 172., 172., 172., 172.,\n",
              "        173., 173., 173., 172., 172., 171.],\n",
              "       [117., 126., 134., 140., 145., 149., 153., 156., 158., 161., 163.,\n",
              "        164., 175., 156.,  87., 154., 172., 173., 173., 173., 173., 173.,\n",
              "        174., 174., 174., 173., 172., 172.],\n",
              "       [119., 128., 136., 142., 146., 150., 153., 156., 159., 163., 165.,\n",
              "        164., 184., 148.,  89., 164., 172., 174., 174., 174., 174., 175.,\n",
              "        175., 174., 175., 174., 173., 173.],\n",
              "       [122., 130., 138., 143., 147., 150., 154., 158., 162., 165., 166.,\n",
              "        172., 181., 128.,  94., 170., 173., 175., 174., 175., 176., 177.,\n",
              "        177., 177., 177., 175., 175., 174.],\n",
              "       [122., 132., 139., 145., 149., 152., 156., 160., 163., 165., 166.,\n",
              "        181., 172., 103., 113., 175., 176., 178., 178., 179., 179., 179.,\n",
              "        179., 178., 179., 177., 175., 174.],\n",
              "       [125., 134., 141., 147., 150., 153., 157., 161., 164., 167., 168.,\n",
              "        184., 179., 116., 126., 165., 176., 179., 180., 180., 181., 180.,\n",
              "        180., 180., 179., 178., 177., 176.],\n",
              "       [128., 135., 142., 148., 152., 154., 158., 162., 165., 168., 170.,\n",
              "        187., 180., 156., 161., 124., 143., 179., 178., 178., 181., 182.,\n",
              "        181., 180., 181., 180., 179., 179.],\n",
              "       [129., 136., 144., 150., 153., 155., 159., 163., 166., 169., 172.,\n",
              "        187., 184., 153., 102., 117., 110., 175., 169., 154., 182., 183.,\n",
              "        183., 182., 182., 181., 181., 179.],\n",
              "       [131., 138., 145., 150., 155., 157., 161., 165., 168., 174., 190.,\n",
              "        189., 175., 146.,  94.,  97., 113., 151., 158., 129., 184., 184.,\n",
              "        184., 184., 183., 183., 182., 180.],\n",
              "       [131., 139., 146., 151., 155., 159., 163., 167., 175., 182., 179.,\n",
              "        171., 159., 114., 102.,  89., 121., 136., 136.,  96., 172., 186.,\n",
              "        186., 185., 185., 184., 182., 181.],\n",
              "       [131., 140., 147., 154., 157., 160., 164., 179., 186., 191., 187.,\n",
              "        180., 157., 100.,  88.,  84., 108., 111., 126.,  90., 120., 186.,\n",
              "        187., 187., 186., 185., 184., 182.],\n",
              "       [133., 141., 149., 155., 158., 160., 174., 201., 189., 165., 151.,\n",
              "        143., 146., 120.,  87.,  78.,  87.,  76., 108.,  98.,  96., 181.,\n",
              "        188., 187., 186., 186., 185., 183.],\n",
              "       [133., 141., 150., 156., 160., 161., 179., 197., 174., 135.,  99.,\n",
              "         72.,  95., 134.,  97.,  72.,  74.,  68., 116., 105., 108., 187.,\n",
              "        189., 187., 187., 186., 186., 185.],\n",
              "       [134., 143., 151., 156., 161., 163., 179., 194., 156., 110.,  74.,\n",
              "         42.,  52., 139.,  94.,  67.,  75.,  75., 118., 106., 129., 189.,\n",
              "        191., 190., 188., 188., 187., 186.],\n",
              "       [135., 144., 152., 158., 163., 163., 177., 193., 161., 122.,  84.,\n",
              "         43.,  71., 134.,  81.,  57.,  71.,  88., 112.,  98., 157., 193.,\n",
              "        193., 192., 190., 190., 189., 188.],\n",
              "       [136., 144., 152., 158., 162., 163., 176., 192., 164., 128.,  98.,\n",
              "         62.,  60., 100.,  71.,  76.,  96., 101., 105.,  95., 174., 195.,\n",
              "        194., 194., 194., 193., 191., 190.],\n",
              "       [137., 145., 152., 159., 164., 165., 178., 191., 164., 135., 113.,\n",
              "         82.,  59.,  87.,  98., 111., 120., 108.,  97., 108., 190., 196.,\n",
              "        195., 195., 194., 193., 193., 192.],\n",
              "       [139., 146., 154., 160., 164., 165., 175., 186., 163., 139., 112.,\n",
              "         85.,  67., 102., 126., 133., 126., 105., 104., 176., 197., 198.,\n",
              "        197., 196., 195., 195., 194., 193.],\n",
              "       [138., 147., 155., 161., 165., 167., 172., 186., 163., 137., 107.,\n",
              "         87.,  76., 106., 122., 125., 117.,  96., 156., 199., 199., 200.,\n",
              "        198., 196., 196., 195., 195., 194.],\n",
              "       [139., 148., 156., 163., 166., 168., 172., 180., 158., 131., 108.,\n",
              "         99.,  86., 108., 118., 116., 103., 107., 191., 202., 201., 200.,\n",
              "        200., 200., 199., 197., 198., 196.],\n",
              "       [140., 149., 157., 164., 168., 167., 177., 178., 155., 131., 118.,\n",
              "        105.,  87., 100., 106., 100.,  96., 164., 202., 202., 202., 202.,\n",
              "        202., 201., 200., 199., 199., 198.],\n",
              "       [140., 150., 157., 165., 167., 170., 181., 175., 152., 130., 115.,\n",
              "         98.,  82.,  85.,  90.,  99., 165., 202., 203., 204., 203., 203.,\n",
              "        202., 202., 201., 201., 200., 200.],\n",
              "       [142., 150., 159., 165., 170., 191., 173., 157., 144., 119.,  97.,\n",
              "         84.,  79.,  79.,  91., 172., 202., 203., 203., 205., 204., 204.,\n",
              "        204., 203., 202., 202., 201., 200.],\n",
              "       [142., 151., 160., 165., 188., 190., 187., 150., 119., 109.,  85.,\n",
              "         79.,  79.,  78., 137., 203., 205., 206., 206., 207., 207., 206.,\n",
              "        206., 204., 205., 204., 203., 202.],\n",
              "       [142., 151., 160., 172., 196., 188., 188., 190., 135.,  96.,  86.,\n",
              "         77.,  77.,  79., 176., 205., 207., 207., 207., 207., 207., 207.,\n",
              "        206., 206., 206., 204., 203., 202.]])"
            ]
          },
          "execution_count": 14,
          "metadata": {},
          "output_type": "execute_result"
        }
      ]
    },
    {
      "cell_type": "code",
      "metadata": {
        "id": "HdcgZpvUOgj_"
      },
      "source": [
        "import torchvision.transforms as transforms\n",
        "transform = transforms.Compose(\n",
        "    [transforms.Resize(32),\n",
        "     transforms.RandomCrop(28)]\n",
        ")"
      ],
      "execution_count": null,
      "outputs": []
    },
    {
      "cell_type": "code",
      "metadata": {
        "colab": {
          "base_uri": "https://localhost:8080/",
          "height": 45
        },
        "id": "hJKdZWHiPtLm",
        "outputId": "8a50f77f-e9cc-499d-db32-99bab3878eb7"
      },
      "source": [
        "img_pil"
      ],
      "execution_count": null,
      "outputs": [
        {
          "data": {
            "image/png": "[encoded data removed]",
            "text/plain": [
              "<PIL.Image.Image image mode=L size=28x28 at 0x7FCC702B9450>"
            ]
          },
          "execution_count": 16,
          "metadata": {},
          "output_type": "execute_result"
        }
      ]
    },
    {
      "cell_type": "code",
      "metadata": {
        "colab": {
          "base_uri": "https://localhost:8080/",
          "height": 45
        },
        "id": "vFPkmbqBPvfm",
        "outputId": "071a49e4-6be3-45f9-ef08-047ab111fc0e"
      },
      "source": [
        "transform(img_pil)"
      ],
      "execution_count": null,
      "outputs": [
        {
          "data": {
            "image/png": "[encoded data removed]",
            "text/plain": [
              "<PIL.Image.Image image mode=L size=28x28 at 0x7FCB7AA4B790>"
            ]
          },
          "execution_count": 17,
          "metadata": {},
          "output_type": "execute_result"
        }
      ]
    },
    {
      "cell_type": "markdown",
      "metadata": {
        "id": "-RhE8VXbQams"
      },
      "source": [
        "### 1. Data preparation"
      ]
    },
    {
      "cell_type": "code",
      "metadata": {
        "id": "ppT5MGDcQc0E"
      },
      "source": [
        "import torch\n",
        "from torch.utils.data import Dataset, DataLoader"
      ],
      "execution_count": null,
      "outputs": []
    },
    {
      "cell_type": "code",
      "metadata": {
        "id": "FjUNDOarQnBh"
      },
      "source": [
        "class ASL_Dataset(Dataset):\n",
        "    def __init__(self, path, transform=None):\n",
        "        super(ASL_Dataset, self).__init__()\n",
        "\n",
        "        train_df = pd.read_csv(path)\n",
        "        y_train = train_df[\"label\"]\n",
        "        del train_df[\"label\"]\n",
        "        x_train = train_df.values\n",
        "\n",
        "        self.x_train = x_train   # Nx784\n",
        "        self.y_train = y_train\n",
        "        self.transform = transform\n",
        "\n",
        "    def __getitem__(self, index):\n",
        "        x_train_sample = np.uint8( self.x_train[index].reshape(28,28) )\n",
        "\n",
        "        if self.transform:\n",
        "            x_train_pil = Image.fromarray(x_train_sample)\n",
        "            x_train_np = np.array(self.transform(x_train_pil))\n",
        "            x_train_tensor = torch.tensor( x_train_np[np.newaxis,:,:] ).float() # 1x28x28\n",
        "        else:\n",
        "            x_train_tensor = torch.tensor( x_train_sample[np.newaxis,:,:] ).float()\n",
        "\n",
        "        y_train_tensor = torch.tensor( self.y_train[index] )\n",
        "\n",
        "        return x_train_tensor, y_train_tensor\n",
        "\n",
        "    def __len__(self):\n",
        "        return self.x_train.shape[0]"
      ],
      "execution_count": null,
      "outputs": []
    },
    {
      "cell_type": "code",
      "metadata": {
        "id": "AV5rIlg0Ts47"
      },
      "source": [
        "training_data = ASL_Dataset(\"sign_mnist_train.csv\", transform=transform)\n",
        "validation_data = ASL_Dataset(\"sign_mnist_valid.csv\")"
      ],
      "execution_count": null,
      "outputs": []
    },
    {
      "cell_type": "code",
      "metadata": {
        "id": "D8lZDdWMUA-V"
      },
      "source": [
        "train_loader = DataLoader(dataset=training_data, batch_size=1000, shuffle=True)\n",
        "validation_loader = DataLoader(dataset=validation_data, batch_size=1000, shuffle=False)"
      ],
      "execution_count": null,
      "outputs": []
    },
    {
      "cell_type": "markdown",
      "metadata": {
        "id": "SUZCounAUePM"
      },
      "source": [
        "### 2. Constructing a convolutional neural network"
      ]
    },
    {
      "cell_type": "code",
      "metadata": {
        "id": "mhR4qdw4Ugik"
      },
      "source": [
        "import torch.nn as nn"
      ],
      "execution_count": null,
      "outputs": []
    },
    {
      "cell_type": "code",
      "metadata": {
        "id": "Widh1enWZPIi"
      },
      "source": [
        "class ConvNet(nn.Module):\n",
        "    def __init__(self):\n",
        "        super(ConvNet, self).__init__()\n",
        "        self.conv1 = nn.Conv2d(1, 16, 3, padding=1)\n",
        "        self.conv2 = nn.Conv2d(16, 32, 3, padding=1)\n",
        "        self.conv3 = nn.Conv2d(32, 32, 3, padding=1)\n",
        "        self.relu = nn.ReLU()\n",
        "        self.pool = nn.MaxPool2d(2,2)\n",
        "        self.fc = nn.Linear(32*7*7, 24)\n",
        "\n",
        "    def forward(self, x):  ## 1x28x28\n",
        "        x = self.conv1(x)   ## 16x28x28\n",
        "        x = self.relu(x)\n",
        "        x = self.pool(x)    ## 16x14x14\n",
        "\n",
        "        x = self.conv2(x)   ## 32x14x14\n",
        "        x = self.relu(x)\n",
        "        x = self.pool(x)    ## 32x7x7\n",
        "\n",
        "        x = self.conv3(x)   ## 32x7x7\n",
        "        x = self.relu(x)\n",
        "\n",
        "        x = x.view(-1, 32*7*7)\n",
        "        x = self.fc(x)\n",
        "\n",
        "        return x"
      ],
      "execution_count": null,
      "outputs": []
    },
    {
      "cell_type": "code",
      "metadata": {
        "id": "oqDkyiHycTYF"
      },
      "source": [
        "convnet = ConvNet()"
      ],
      "execution_count": null,
      "outputs": []
    },
    {
      "cell_type": "markdown",
      "metadata": {
        "id": "MzrBchVmcYRh"
      },
      "source": [
        "### 3. Loss function and Optimization method"
      ]
    },
    {
      "cell_type": "code",
      "metadata": {
        "id": "DcblnExvcWcI"
      },
      "source": [
        "loss_function = nn.CrossEntropyLoss()\n",
        "optimizer = torch.optim.Adam(convnet.parameters(), lr=0.001)"
      ],
      "execution_count": null,
      "outputs": []
    },
    {
      "cell_type": "markdown",
      "metadata": {
        "id": "T4zAj82GcXyT"
      },
      "source": [
        "### 4. Training of a neural network "
      ]
    },
    {
      "cell_type": "code",
      "metadata": {
        "colab": {
          "background_save": true,
          "base_uri": "https://localhost:8080/"
        },
        "id": "FoS1fyNfcxz5",
        "outputId": "11216fb3-573d-4e35-e300-56e922851672"
      },
      "source": [
        "for epoch in range(20):\n",
        "    loss_val = 0\n",
        "    for itr, data in enumerate(train_loader):\n",
        "        optimizer.zero_grad()\n",
        "\n",
        "        inputs, labels = data\n",
        "\n",
        "        pred = convnet(inputs)\n",
        "        loss = loss_function(pred, labels)\n",
        "\n",
        "        loss.backward()\n",
        "        optimizer.step()\n",
        "\n",
        "        loss_val += loss.item()\n",
        "\n",
        "    print(\"Epoch:\", epoch+1, \"  , Loss:\", loss_val)"
      ],
      "execution_count": null,
      "outputs": [
        {
          "name": "stderr",
          "output_type": "stream",
          "text": [
            "/usr/local/lib/python3.7/dist-packages/torch/nn/functional.py:718: UserWarning: Named tensors and all their associated APIs are an experimental feature and subject to change. Please do not use them for anything important until they are released as stable. (Triggered internally at  /pytorch/c10/core/TensorImpl.h:1156.)\n",
            "  return torch.max_pool2d(input, kernel_size, stride, padding, dilation, ceil_mode)\n"
          ]
        },
        {
          "name": "stdout",
          "output_type": "stream",
          "text": [
            "Epoch: 1   , Loss: 121.50997924804688\n",
            "Epoch: 2   , Loss: 45.785685777664185\n",
            "Epoch: 3   , Loss: 25.208059668540955\n",
            "Epoch: 4   , Loss: 16.99350544810295\n",
            "Epoch: 5   , Loss: 12.702322602272034\n",
            "Epoch: 6   , Loss: 9.605162560939789\n",
            "Epoch: 7   , Loss: 7.618293210864067\n",
            "Epoch: 8   , Loss: 6.304530844092369\n",
            "Epoch: 9   , Loss: 5.12280248105526\n",
            "Epoch: 10   , Loss: 4.1271383464336395\n",
            "Epoch: 11   , Loss: 3.4925658479332924\n",
            "Epoch: 12   , Loss: 3.2638189494609833\n",
            "Epoch: 13   , Loss: 3.013474978506565\n",
            "Epoch: 14   , Loss: 2.4130427092313766\n",
            "Epoch: 15   , Loss: 1.8893853425979614\n",
            "Epoch: 16   , Loss: 1.5392857380211353\n",
            "Epoch: 17   , Loss: 1.3828428611159325\n",
            "Epoch: 18   , Loss: 1.3126205019652843\n",
            "Epoch: 19   , Loss: 1.1317119896411896\n",
            "Epoch: 20   , Loss: 1.1548319552093744\n"
          ]
        }
      ]
    },
    {
      "cell_type": "markdown",
      "metadata": {
        "id": "uloa08LFhO1f"
      },
      "source": [
        "### 5. Prediction and evaludation for a test set"
      ]
    },
    {
      "cell_type": "code",
      "metadata": {
        "colab": {
          "base_uri": "https://localhost:8080/"
        },
        "id": "LhJsd7lhhLvi",
        "outputId": "adec4049-4d14-468f-9ce2-a788e2003115"
      },
      "source": [
        "pred_list = []\n",
        "label_list = []\n",
        "for itr, data in enumerate(validation_loader):\n",
        "    inputs, labels = data\n",
        "    pred_test = convnet(inputs)\n",
        "    pred_category = torch.argmax(pred_test, dim=1)\n",
        "\n",
        "    pred_list = pred_list + list(pred_category)    \n",
        "    label_list = label_list + list(labels)\n",
        "\n",
        "accu = np.mean( np.array(pred_list)==np.array(label_list) )\n",
        "print(\"Test accuracy:\", accu)"
      ],
      "execution_count": null,
      "outputs": [
        {
          "name": "stdout",
          "output_type": "stream",
          "text": [
            "Test accuracy: 0.7286670384829894\n"
          ]
        }
      ]
    }
  ]
}