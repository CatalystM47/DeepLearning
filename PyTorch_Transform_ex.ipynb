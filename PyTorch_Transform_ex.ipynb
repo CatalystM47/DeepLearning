{
  "nbformat": 4,
  "nbformat_minor": 0,
  "metadata": {
    "colab": {
      "name": "PyTorch_Transform_ex.ipynb",
      "provenance": [],
      "authorship_tag": "ABX9TyPO4CgqtDHYdDRhuOT3p9JR",
      "include_colab_link": true
    },
    "kernelspec": {
      "name": "python3",
      "display_name": "Python 3"
    },
    "language_info": {
      "name": "python"
    },
    "accelerator": "GPU"
  },
  "cells": [
    {
      "cell_type": "markdown",
      "metadata": {
        "id": "view-in-github",
        "colab_type": "text"
      },
      "source": [
        "<a href=\"https://colab.research.google.com/github/CatalystM47/Deep_Learning/blob/main/PyTorch_Transform_ex.ipynb\" target=\"_parent\"><img src=\"https://colab.research.google.com/assets/colab-badge.svg\" alt=\"Open In Colab\"/></a>"
      ]
    },
    {
      "cell_type": "markdown",
      "metadata": {
        "id": "LbNjRUnlUsmS"
      },
      "source": [
        "1. 데이터 불러오기"
      ]
    },
    {
      "cell_type": "code",
      "metadata": {
        "id": "MW9g3cknIZnO"
      },
      "source": [
        "import torch\n",
        "import torchvision\n",
        "import torchvision.transforms as tr\n",
        "from torch.utils.data import DataLoader, Dataset\n",
        "import numpy as np"
      ],
      "execution_count": 49,
      "outputs": []
    },
    {
      "cell_type": "code",
      "metadata": {
        "id": "r4JVLuGzJnjU"
      },
      "source": [
        "transf = tr.Compose([tr.Resize(8), tr.ToTensor()])\n",
        "# 필요한 작업 Compose 안에 순서대로 넣기.\n",
        "# 트랜스폼에 넣을때 넘파이는 에러, PIL 이미지 형태여야함.\n",
        "# Pad, Grayscale, RandomCrop, Normalize"
      ],
      "execution_count": 50,
      "outputs": []
    },
    {
      "cell_type": "code",
      "metadata": {
        "colab": {
          "base_uri": "https://localhost:8080/"
        },
        "id": "BaPI-9lqJEOb",
        "outputId": "7be7e32c-8a86-47b7-812d-8d2a1864aad5"
      },
      "source": [
        "trainset = torchvision.datasets.CIFAR10(root = './data', train = True, download = True, transform = transf)\n",
        "testset = torchvision.datasets.CIFAR10(root = './data', train = False, download = True, transform = transf)"
      ],
      "execution_count": 51,
      "outputs": [
        {
          "output_type": "stream",
          "name": "stdout",
          "text": [
            "Files already downloaded and verified\n",
            "Files already downloaded and verified\n"
          ]
        }
      ]
    },
    {
      "cell_type": "code",
      "metadata": {
        "colab": {
          "base_uri": "https://localhost:8080/"
        },
        "id": "lL6WE3VaKNy-",
        "outputId": "e23dbbd8-cc15-45a3-e60b-8c1577db6477"
      },
      "source": [
        "trainset[0][0].size()"
      ],
      "execution_count": 52,
      "outputs": [
        {
          "output_type": "execute_result",
          "data": {
            "text/plain": [
              "torch.Size([3, 8, 8])"
            ]
          },
          "metadata": {},
          "execution_count": 52
        }
      ]
    },
    {
      "cell_type": "code",
      "metadata": {
        "id": "kuSdjZqaKhAI"
      },
      "source": [
        "trainloader = DataLoader(trainset, batch_size = 50, shuffle = True, num_workers = 2)\n",
        "testloader = DataLoader(testset, batch_size = 50, shuffle = True, num_workers = 2)"
      ],
      "execution_count": 53,
      "outputs": []
    },
    {
      "cell_type": "code",
      "metadata": {
        "colab": {
          "base_uri": "https://localhost:8080/"
        },
        "id": "9VGz6xiJK2Dh",
        "outputId": "dc33ed30-bfdc-4512-e5e0-7d5393cfc7d8"
      },
      "source": [
        "len(trainloader)"
      ],
      "execution_count": 54,
      "outputs": [
        {
          "output_type": "execute_result",
          "data": {
            "text/plain": [
              "1000"
            ]
          },
          "metadata": {},
          "execution_count": 54
        }
      ]
    },
    {
      "cell_type": "code",
      "metadata": {
        "id": "n4OLG7gUK5hH"
      },
      "source": [
        "dataiter = iter(trainloader)\n",
        "images, labels = dataiter.next()"
      ],
      "execution_count": 55,
      "outputs": []
    },
    {
      "cell_type": "code",
      "metadata": {
        "colab": {
          "base_uri": "https://localhost:8080/"
        },
        "id": "aEVWSO6UK5_1",
        "outputId": "93f064f6-75ea-4761-8682-0ec5fc761232"
      },
      "source": [
        "images.size() # 파이토치에서 신경망에 들어갈 때는 [배치사이즈, 채널 수, 이미지 사이즈, 이미지사이즈]순서이다. "
      ],
      "execution_count": 56,
      "outputs": [
        {
          "output_type": "execute_result",
          "data": {
            "text/plain": [
              "torch.Size([50, 3, 8, 8])"
            ]
          },
          "metadata": {},
          "execution_count": 56
        }
      ]
    },
    {
      "cell_type": "markdown",
      "metadata": {
        "id": "8k5MaJDdUwYW"
      },
      "source": [
        "2. 같은 클래스 별 폴더 이미지 데이터 이용"
      ]
    },
    {
      "cell_type": "code",
      "metadata": {
        "id": "MzzdRwhPK6CA"
      },
      "source": [
        "# ./class/tiger ./class/lion 으로 만약 레이블링을 해두었을 경우 사용하기.\n",
        "# 다만, 다른 작업과 공용으로 사용하거나, 폴더가 아닌 SQL 같은곳에서 넘어오는 경우 폴더 라벨링 힘듦.\n",
        "\n",
        "#transf = tr.Compose([tr.Resize(16), tr.ToTensor()])\n",
        "#trainset = torchvision.datasets.ImageFolder(root = './class', transform = transf) # 트랜스폼으로 전처리 작업 가능\n",
        "#trainloader = DataLoader(trainset, batch_size = 10, shuffle = False, num_workwes = 2)\n",
        "#print(len(trainloader))"
      ],
      "execution_count": 57,
      "outputs": []
    },
    {
      "cell_type": "markdown",
      "metadata": {
        "id": "PulNClOZVXpS"
      },
      "source": [
        "3. 개인 데이터 사용 (2 types)"
      ]
    },
    {
      "cell_type": "code",
      "metadata": {
        "colab": {
          "base_uri": "https://localhost:8080/"
        },
        "id": "jepIIHNsK6EK",
        "outputId": "ba40e19c-eaad-472c-ea41-f608c12f6a21"
      },
      "source": [
        "# import preprocessing\n",
        "\n",
        "train_images = np.random.randint(256, size = (20,32,32,3)) #numpy 형태로 들어왔다고 가정\n",
        "train_labels = np.random.randint(2,size = (20,1))\n",
        "\n",
        "# preprocessing....\n",
        "# train_images, train_labels = preprocessing(train_images, train_labels)\n",
        "\n",
        "print(train_images.shape, train_labels.shape)"
      ],
      "execution_count": 58,
      "outputs": [
        {
          "output_type": "stream",
          "name": "stdout",
          "text": [
            "(20, 32, 32, 3) (20, 1)\n"
          ]
        }
      ]
    },
    {
      "cell_type": "code",
      "metadata": {
        "id": "467L2Tv7WsIv"
      },
      "source": [
        "# 외부 데이터 받아서\n",
        "# 1. 텐서로 변경\n",
        "# 2. permute함수로 순서 변경\n",
        "# 3. 데이터 개수 산출\n",
        "# 4. getitem으로 튜플 형식으로 리턴\n",
        "\n",
        "class TensorData(Dataset):\n",
        "    \n",
        "    def __init__(self, x_data, y_data):\n",
        "        self.x_data = torch.FloatTensor(x_data)\n",
        "        self.x_data = self.x_data.permute(0, 3, 1, 2) ## 이미지 개수, 채널 수, 이미지 너비, 높이\n",
        "        self.y_data = torch.LongTensor(y_data)\n",
        "        self.len = self.y_data.shape[0]\n",
        "\n",
        "    def __getitem__(self, index):\n",
        "        return self.x_data[index], self.y_data[index]\n",
        "    \n",
        "    def __len__(self):\n",
        "        return self.len"
      ],
      "execution_count": 59,
      "outputs": []
    },
    {
      "cell_type": "code",
      "metadata": {
        "id": "d0F8jBOCWsKt"
      },
      "source": [
        "train_data = TensorData(train_images, train_labels)\n",
        "train_loader = DataLoader(train_data, batch_size = 10, shuffle = True)"
      ],
      "execution_count": 60,
      "outputs": []
    },
    {
      "cell_type": "code",
      "metadata": {
        "colab": {
          "base_uri": "https://localhost:8080/"
        },
        "id": "sIUDfMTjWsND",
        "outputId": "e5a6cfae-e7a3-4110-e9fc-d9f065996866"
      },
      "source": [
        "train_data[0][0].size()"
      ],
      "execution_count": 61,
      "outputs": [
        {
          "output_type": "execute_result",
          "data": {
            "text/plain": [
              "torch.Size([3, 32, 32])"
            ]
          },
          "metadata": {},
          "execution_count": 61
        }
      ]
    },
    {
      "cell_type": "code",
      "metadata": {
        "id": "gmtBlSbeZL3y"
      },
      "source": [
        "dataiter = iter(train_loader)\n",
        "images, labels = dataiter.next()"
      ],
      "execution_count": 62,
      "outputs": []
    },
    {
      "cell_type": "code",
      "metadata": {
        "colab": {
          "base_uri": "https://localhost:8080/"
        },
        "id": "bhNYlVZyZScR",
        "outputId": "b3a5501c-5354-4352-d6dc-36a306432c3b"
      },
      "source": [
        "images.size()"
      ],
      "execution_count": 63,
      "outputs": [
        {
          "output_type": "execute_result",
          "data": {
            "text/plain": [
              "torch.Size([10, 3, 32, 32])"
            ]
          },
          "metadata": {},
          "execution_count": 63
        }
      ]
    },
    {
      "cell_type": "code",
      "metadata": {
        "id": "5MFmEMlmZT0j"
      },
      "source": [
        "##### Form #####\n",
        "\n",
        "#from torch.utils.data import Dataset\n",
        "\n",
        "#class MyDataset(Dataset):\n",
        "#    def __init__(self):\n",
        "\n",
        "#    def __getitem__(self, index):\n",
        "\n",
        "#    def __len__(self):"
      ],
      "execution_count": 64,
      "outputs": []
    },
    {
      "cell_type": "code",
      "metadata": {
        "id": "gB7Oae0obHFu"
      },
      "source": [
        "from torch.utils.data import Dataset\n",
        "\n",
        "class MyDataset(Dataset):\n",
        "\n",
        "    def __init__(self, x_data, y_data, transform = None):\n",
        "\n",
        "        self.x_data = x_data\n",
        "        self.y_data = y_data\n",
        "        self.transform = transform\n",
        "        self.len = len(y_data)\n",
        "\n",
        "    def __getitem__(self, index):\n",
        "        sample = self.x_data[index], self.y_data[index]\n",
        "\n",
        "        if self.transform:\n",
        "            sample = self.transform(sample)\n",
        "\n",
        "        return sample\n",
        "\n",
        "    def __len__(self):\n",
        "        return self.len\n",
        "\n",
        "class ToTensor:\n",
        "    def __call__(self, sample):\n",
        "        inputs, labels = sample\n",
        "        inputs = torch.FloatTensor(inputs)\n",
        "        inputs = inputs.permute(2, 0, 1)\n",
        "\n",
        "        return inputs, torch.LongTensor(labels)\n",
        "\n",
        "class LinearTensor:\n",
        "    def __init__(self, slope = 1, bias = 0):\n",
        "        self.slope = slope\n",
        "        self.bias = bias\n",
        "\n",
        "    def __call__(self, sample):\n",
        "        inputs, labels = sample\n",
        "        inputs = self.slope * inputs + self.bias\n",
        "\n",
        "        return inputs, labels"
      ],
      "execution_count": 65,
      "outputs": []
    },
    {
      "cell_type": "code",
      "metadata": {
        "id": "Zzp3SPfNgP9F"
      },
      "source": [
        "trans = tr.Compose([ToTensor(),LinearTensor(2, 5)]) #  !!!! tr.ToTensor 로 쓰려면, PIL이미지 타입이어야 사용 가능함.\n",
        "ds1 = MyDataset(train_images, train_labels, transform = trans)\n",
        "train_loader1 = DataLoader(ds1, batch_size = 10, shuffle = True)"
      ],
      "execution_count": 66,
      "outputs": []
    },
    {
      "cell_type": "code",
      "metadata": {
        "colab": {
          "base_uri": "https://localhost:8080/"
        },
        "id": "MH1_QIVph9Br",
        "outputId": "ca1021a8-c97d-41fa-eb12-b3df0fc31b70"
      },
      "source": [
        "ds1[0]"
      ],
      "execution_count": 67,
      "outputs": [
        {
          "output_type": "execute_result",
          "data": {
            "text/plain": [
              "(tensor([[[441., 149., 515.,  ..., 505., 193., 335.],\n",
              "          [ 83.,  35., 391.,  ..., 513., 467., 229.],\n",
              "          [305., 175., 389.,  ...,  83.,   5., 151.],\n",
              "          ...,\n",
              "          [313., 103., 463.,  ...,  69., 121., 395.],\n",
              "          [117., 479., 389.,  ..., 307., 499., 327.],\n",
              "          [413.,  63., 391.,  ..., 339., 165., 175.]],\n",
              " \n",
              "         [[123., 157., 111.,  ...,  49., 375., 441.],\n",
              "          [353., 155., 401.,  ..., 143., 211., 501.],\n",
              "          [191., 429., 139.,  ..., 251.,  71., 401.],\n",
              "          ...,\n",
              "          [117., 253., 447.,  ..., 377., 263., 453.],\n",
              "          [387., 105., 131.,  ..., 239.,  29., 331.],\n",
              "          [ 53., 261., 151.,  ..., 267., 157., 201.]],\n",
              " \n",
              "         [[219.,  49., 279.,  ..., 423., 269., 155.],\n",
              "          [469., 319., 511.,  ..., 345.,  71., 409.],\n",
              "          [365., 105., 471.,  ..., 341.,  69., 257.],\n",
              "          ...,\n",
              "          [ 57.,  15., 349.,  ..., 127.,  81., 255.],\n",
              "          [457.,  43., 505.,  ..., 159., 249., 195.],\n",
              "          [ 27., 125., 515.,  ..., 433.,  39., 287.]]]), tensor([0]))"
            ]
          },
          "metadata": {},
          "execution_count": 67
        }
      ]
    },
    {
      "cell_type": "code",
      "metadata": {
        "colab": {
          "base_uri": "https://localhost:8080/"
        },
        "id": "brvU5TNMgj7I",
        "outputId": "bb45a97a-eb5a-4e0c-a6c6-5a6e0922dc24"
      },
      "source": [
        "first_data = ds1[0]\n",
        "features, labels = first_data\n",
        "print(type(features), type(labels)) \n",
        "# numpy -> tensor"
      ],
      "execution_count": 68,
      "outputs": [
        {
          "output_type": "stream",
          "name": "stdout",
          "text": [
            "<class 'torch.Tensor'> <class 'torch.Tensor'>\n"
          ]
        }
      ]
    },
    {
      "cell_type": "code",
      "metadata": {
        "id": "KfSiVtAbhYtH"
      },
      "source": [
        "dataiter1 = iter(train_loader1)\n",
        "images1, labels1 = dataiter1.next()"
      ],
      "execution_count": 69,
      "outputs": []
    },
    {
      "cell_type": "code",
      "metadata": {
        "colab": {
          "base_uri": "https://localhost:8080/"
        },
        "id": "8wy0dI8Ehek7",
        "outputId": "62c6af61-cedf-42ad-d1be-603983bce5c3"
      },
      "source": [
        "images1"
      ],
      "execution_count": 70,
      "outputs": [
        {
          "output_type": "execute_result",
          "data": {
            "text/plain": [
              "tensor([[[[173., 427., 139.,  ...,  85., 141., 417.],\n",
              "          [163., 355., 247.,  ..., 203., 265., 137.],\n",
              "          [  5.,  31., 397.,  ..., 501., 253., 245.],\n",
              "          ...,\n",
              "          [183., 135., 297.,  ..., 223., 209., 507.],\n",
              "          [179., 295., 393.,  ..., 367., 233., 157.],\n",
              "          [507., 329., 501.,  ...,  77., 271., 195.]],\n",
              "\n",
              "         [[357., 401., 251.,  ..., 499., 353., 191.],\n",
              "          [235., 433., 303.,  ..., 303., 259., 423.],\n",
              "          [167., 429., 273.,  ..., 323.,  43., 275.],\n",
              "          ...,\n",
              "          [221., 435., 279.,  ..., 497.,  17.,  71.],\n",
              "          [353., 375.,  67.,  ...,  19., 485.,  25.],\n",
              "          [479., 119., 363.,  ..., 291., 331., 257.]],\n",
              "\n",
              "         [[403., 201., 437.,  ..., 259., 365.,  73.],\n",
              "          [ 45., 335., 319.,  ..., 371., 311., 231.],\n",
              "          [329.,  69., 123.,  ..., 315.,  17., 113.],\n",
              "          ...,\n",
              "          [461., 185., 377.,  ..., 185., 439., 439.],\n",
              "          [ 23., 421.,  73.,  ..., 189., 135., 133.],\n",
              "          [253., 483., 373.,  ..., 263., 223., 431.]]],\n",
              "\n",
              "\n",
              "        [[[457.,  55., 193.,  ..., 191., 321., 485.],\n",
              "          [325., 215., 283.,  ...,  39., 401., 271.],\n",
              "          [181., 489., 459.,  ..., 219., 169., 247.],\n",
              "          ...,\n",
              "          [385., 279., 433.,  ..., 299.,  65., 439.],\n",
              "          [ 53.,  25.,  43.,  ...,  19., 483.,  11.],\n",
              "          [363., 375., 185.,  ..., 131., 279.,  67.]],\n",
              "\n",
              "         [[443.,   9., 347.,  ..., 153., 129., 391.],\n",
              "          [281., 433., 251.,  ..., 245., 253.,  75.],\n",
              "          [113.,  83., 341.,  ...,  87., 451., 505.],\n",
              "          ...,\n",
              "          [457., 181., 363.,  ..., 121., 493.,   7.],\n",
              "          [515., 217., 195.,  ...,  43., 369., 219.],\n",
              "          [245., 165., 263.,  ...,  47., 241., 511.]],\n",
              "\n",
              "         [[463.,  59.,  59.,  ..., 205., 463., 207.],\n",
              "          [275., 255., 237.,  ..., 329., 485.,  71.],\n",
              "          [ 31., 427., 219.,  ...,  95., 187., 147.],\n",
              "          ...,\n",
              "          [245., 107., 161.,  ..., 179., 169., 113.],\n",
              "          [415., 289., 347.,  ...,  57., 221., 329.],\n",
              "          [105., 369., 413.,  ..., 155.,  19., 415.]]],\n",
              "\n",
              "\n",
              "        [[[ 21., 327.,  51.,  ..., 407., 159., 173.],\n",
              "          [317., 131., 261.,  ..., 411.,  19., 285.],\n",
              "          [141., 217., 219.,  ..., 433.,  43., 141.],\n",
              "          ...,\n",
              "          [305., 361., 119.,  ..., 241., 465., 353.],\n",
              "          [257., 301., 467.,  ...,  39., 405., 191.],\n",
              "          [299., 249.,  43.,  ..., 319., 205.,  75.]],\n",
              "\n",
              "         [[149., 415., 245.,  ...,  49., 289., 515.],\n",
              "          [379., 295.,  55.,  ..., 333., 207., 459.],\n",
              "          [117., 229., 183.,  ...,  43., 511.,  75.],\n",
              "          ...,\n",
              "          [441., 199.,  45.,  ..., 241., 135., 339.],\n",
              "          [501., 365.,  47.,  ..., 119., 333.,  75.],\n",
              "          [109., 311., 471.,  ..., 333., 419., 509.]],\n",
              "\n",
              "         [[151.,  63., 147.,  ..., 219., 313., 145.],\n",
              "          [393., 455.,  83.,  ..., 511.,  79.,   7.],\n",
              "          [125., 151., 145.,  ..., 269., 501.,  41.],\n",
              "          ...,\n",
              "          [179., 367., 201.,  ..., 401., 335., 341.],\n",
              "          [115., 161., 201.,  ..., 279., 281., 137.],\n",
              "          [ 43., 445., 261.,  ..., 453., 455., 103.]]],\n",
              "\n",
              "\n",
              "        ...,\n",
              "\n",
              "\n",
              "        [[[495., 265., 195.,  ..., 395., 453., 405.],\n",
              "          [157.,  41., 489.,  ...,   5., 243., 253.],\n",
              "          [279., 277., 147.,  ..., 507., 337., 261.],\n",
              "          ...,\n",
              "          [233., 315., 373.,  ..., 319.,  57., 261.],\n",
              "          [407., 427., 505.,  ..., 485., 279., 355.],\n",
              "          [159., 451., 147.,  ..., 365., 281., 493.]],\n",
              "\n",
              "         [[185.,  67., 199.,  ...,  63., 203.,  11.],\n",
              "          [ 37., 443., 327.,  ..., 411., 187., 139.],\n",
              "          [181., 447., 307.,  ..., 193., 109., 209.],\n",
              "          ...,\n",
              "          [ 83., 289., 305.,  ..., 283., 249., 281.],\n",
              "          [495.,  31., 421.,  ..., 191., 183., 471.],\n",
              "          [ 63., 505., 203.,  ..., 331., 171., 485.]],\n",
              "\n",
              "         [[ 49., 123., 479.,  ..., 319., 353.,  15.],\n",
              "          [171.,  53., 337.,  ..., 149., 507., 471.],\n",
              "          [131.,  31., 295.,  ..., 385., 359., 149.],\n",
              "          ...,\n",
              "          [291., 165., 241.,  ..., 157.,  95., 469.],\n",
              "          [103.,  81.,  59.,  ..., 133., 365., 513.],\n",
              "          [ 77., 171., 159.,  ..., 431., 281., 123.]]],\n",
              "\n",
              "\n",
              "        [[[285., 125., 489.,  ..., 211., 341., 219.],\n",
              "          [217., 375., 153.,  ..., 173.,  59., 101.],\n",
              "          [361., 113.,  55.,  ..., 251., 275.,  95.],\n",
              "          ...,\n",
              "          [343., 341., 273.,  ..., 129., 223., 449.],\n",
              "          [451., 125., 295.,  ..., 411., 473., 339.],\n",
              "          [451., 397., 443.,  ..., 153., 247., 449.]],\n",
              "\n",
              "         [[515., 245.,  47.,  ..., 483., 141.,  89.],\n",
              "          [139., 367., 111.,  ..., 463., 407., 353.],\n",
              "          [225., 251.,  49.,  ..., 437.,  39., 231.],\n",
              "          ...,\n",
              "          [261., 395., 355.,  ...,  13.,  17., 275.],\n",
              "          [367., 311., 363.,  ..., 417., 139.,  81.],\n",
              "          [515., 199., 365.,  ..., 349., 457., 191.]],\n",
              "\n",
              "         [[311., 173., 131.,  ...,  21., 219., 509.],\n",
              "          [ 25., 437.,  17.,  ..., 281., 171., 253.],\n",
              "          [135., 365., 367.,  ..., 257., 449.,  27.],\n",
              "          ...,\n",
              "          [291.,  11., 489.,  ..., 367., 149., 299.],\n",
              "          [233., 167., 257.,  ..., 209., 349., 115.],\n",
              "          [247.,  39., 327.,  ..., 333., 167., 371.]]],\n",
              "\n",
              "\n",
              "        [[[441., 149., 515.,  ..., 505., 193., 335.],\n",
              "          [ 83.,  35., 391.,  ..., 513., 467., 229.],\n",
              "          [305., 175., 389.,  ...,  83.,   5., 151.],\n",
              "          ...,\n",
              "          [313., 103., 463.,  ...,  69., 121., 395.],\n",
              "          [117., 479., 389.,  ..., 307., 499., 327.],\n",
              "          [413.,  63., 391.,  ..., 339., 165., 175.]],\n",
              "\n",
              "         [[123., 157., 111.,  ...,  49., 375., 441.],\n",
              "          [353., 155., 401.,  ..., 143., 211., 501.],\n",
              "          [191., 429., 139.,  ..., 251.,  71., 401.],\n",
              "          ...,\n",
              "          [117., 253., 447.,  ..., 377., 263., 453.],\n",
              "          [387., 105., 131.,  ..., 239.,  29., 331.],\n",
              "          [ 53., 261., 151.,  ..., 267., 157., 201.]],\n",
              "\n",
              "         [[219.,  49., 279.,  ..., 423., 269., 155.],\n",
              "          [469., 319., 511.,  ..., 345.,  71., 409.],\n",
              "          [365., 105., 471.,  ..., 341.,  69., 257.],\n",
              "          ...,\n",
              "          [ 57.,  15., 349.,  ..., 127.,  81., 255.],\n",
              "          [457.,  43., 505.,  ..., 159., 249., 195.],\n",
              "          [ 27., 125., 515.,  ..., 433.,  39., 287.]]]])"
            ]
          },
          "metadata": {},
          "execution_count": 70
        }
      ]
    },
    {
      "cell_type": "code",
      "metadata": {
        "id": "udV7DXszhfdK"
      },
      "source": [
        "class MyDataset(Dataset):\n",
        "\n",
        "    def __init__(self, x_data, y_data, transform = None):\n",
        "\n",
        "        self.x_data = x_data\n",
        "        self.y_data = y_data\n",
        "        self.transform = transform\n",
        "        self.len = len(y_data)\n",
        "\n",
        "    def __getitem__(self, index):\n",
        "        sample = self.x_data[index], self.y_data[index]\n",
        "\n",
        "        if self.transform:\n",
        "            sample = self.transform(sample)\n",
        "\n",
        "        return sample\n",
        "\n",
        "    def __len__(self):\n",
        "        return self.len\n",
        "\n",
        "class MyTransform:\n",
        "    \n",
        "    def __call__(self, sample):\n",
        "        inputs, labels = sample\n",
        "        inputs = torch.FloatTensor(inputs)\n",
        "        inputs = inputs.permute(2, 0, 1)\n",
        "        labels = torch.FloatTensor(labels)\n",
        "\n",
        "        transf = tr.Compose([tr.ToPILImage(), tr.Resize(128), tr.ToTensor(), tr.Normalize((0.5, 0.5, 0.5), (0.5, 0.5, 0.5))])\n",
        "        final_output = transf(inputs)\n",
        "\n",
        "        return final_output, labels"
      ],
      "execution_count": 71,
      "outputs": []
    },
    {
      "cell_type": "code",
      "metadata": {
        "id": "vTuymArSkNxR"
      },
      "source": [
        "ds2 = MyDataset(train_images, train_labels, transform = MyTransform())\n",
        "train_loader2 = DataLoader(ds2, batch_size = 10, shuffle = True)"
      ],
      "execution_count": 72,
      "outputs": []
    },
    {
      "cell_type": "code",
      "metadata": {
        "colab": {
          "base_uri": "https://localhost:8080/"
        },
        "id": "uaSUpXBFkeRj",
        "outputId": "ab95ccc8-7725-49ca-d786-851c4d5a53cd"
      },
      "source": [
        "first_data = ds2[0]\n",
        "features, labels = first_data\n",
        "print(type(features), type(labels))"
      ],
      "execution_count": 73,
      "outputs": [
        {
          "output_type": "stream",
          "name": "stdout",
          "text": [
            "<class 'torch.Tensor'> <class 'torch.Tensor'>\n"
          ]
        }
      ]
    },
    {
      "cell_type": "code",
      "metadata": {
        "id": "PLFEEq6NlFAa"
      },
      "source": [
        "dataiter2 = iter(train_loader2)\n",
        "images2, labels2 = dataiter2.next()"
      ],
      "execution_count": 74,
      "outputs": []
    },
    {
      "cell_type": "code",
      "metadata": {
        "colab": {
          "base_uri": "https://localhost:8080/"
        },
        "id": "VUPjZmJflcb9",
        "outputId": "8d34999e-827e-4e72-8467-5c5ac0d7a55b"
      },
      "source": [
        "images2.size() # 배치, 채널 수 , 이미지 사이즈"
      ],
      "execution_count": 75,
      "outputs": [
        {
          "output_type": "execute_result",
          "data": {
            "text/plain": [
              "torch.Size([10, 3, 128, 128])"
            ]
          },
          "metadata": {},
          "execution_count": 75
        }
      ]
    },
    {
      "cell_type": "code",
      "metadata": {
        "colab": {
          "base_uri": "https://localhost:8080/"
        },
        "id": "qGbnMMXLlffG",
        "outputId": "5347f124-5a6e-426a-b3b8-0aa66e58d053"
      },
      "source": [
        "images2"
      ],
      "execution_count": 76,
      "outputs": [
        {
          "output_type": "execute_result",
          "data": {
            "text/plain": [
              "tensor([[[[ 0.5137,  0.5137,  0.5608,  ...,  0.9451,  0.9686,  0.9686],\n",
              "          [ 0.5137,  0.5137,  0.5608,  ...,  0.9451,  0.9686,  0.9686],\n",
              "          [ 0.3882,  0.3882,  0.4353,  ...,  0.8510,  0.8667,  0.8667],\n",
              "          ...,\n",
              "          [ 0.1451,  0.1451,  0.0980,  ...,  0.0353,  0.0039,  0.0039],\n",
              "          [ 0.0745,  0.0745,  0.0196,  ..., -0.0667, -0.1294, -0.1294],\n",
              "          [ 0.0745,  0.0745,  0.0196,  ..., -0.0667, -0.1294, -0.1294]],\n",
              "\n",
              "         [[ 0.3804,  0.3804,  0.4039,  ...,  0.1608,  0.1294,  0.1294],\n",
              "          [ 0.3804,  0.3804,  0.4039,  ...,  0.1608,  0.1294,  0.1294],\n",
              "          [ 0.2863,  0.2863,  0.3176,  ...,  0.1137,  0.0824,  0.0824],\n",
              "          ...,\n",
              "          [ 0.6078,  0.6078,  0.5922,  ..., -0.4667, -0.5765, -0.5765],\n",
              "          [ 0.6706,  0.6706,  0.6706,  ..., -0.6627, -0.7961, -0.7961],\n",
              "          [ 0.6706,  0.6706,  0.6706,  ..., -0.6627, -0.7961, -0.7961]],\n",
              "\n",
              "         [[-0.2157, -0.2157, -0.0745,  ...,  0.8039,  0.7882,  0.7882],\n",
              "          [-0.2157, -0.2157, -0.0745,  ...,  0.8039,  0.7882,  0.7882],\n",
              "          [-0.1216, -0.1216, -0.0039,  ...,  0.8039,  0.8118,  0.8118],\n",
              "          ...,\n",
              "          [-0.3647, -0.3647, -0.3255,  ...,  0.2314,  0.3255,  0.3255],\n",
              "          [-0.4118, -0.4118, -0.3490,  ...,  0.3255,  0.4275,  0.4275],\n",
              "          [-0.4118, -0.4118, -0.3490,  ...,  0.3255,  0.4275,  0.4275]]],\n",
              "\n",
              "\n",
              "        [[[ 0.3490,  0.3490,  0.2235,  ..., -0.4745, -0.6078, -0.6078],\n",
              "          [ 0.3490,  0.3490,  0.2235,  ..., -0.4745, -0.6078, -0.6078],\n",
              "          [ 0.3569,  0.3569,  0.2314,  ..., -0.3647, -0.4667, -0.4667],\n",
              "          ...,\n",
              "          [-0.7961, -0.7961, -0.7333,  ...,  0.2392,  0.2784,  0.2784],\n",
              "          [-0.9608, -0.9608, -0.8745,  ...,  0.2235,  0.2627,  0.2627],\n",
              "          [-0.9608, -0.9608, -0.8745,  ...,  0.2235,  0.2627,  0.2627]],\n",
              "\n",
              "         [[-0.3725, -0.3725, -0.3961,  ...,  0.2000,  0.2784,  0.2784],\n",
              "          [-0.3725, -0.3725, -0.3961,  ...,  0.2000,  0.2784,  0.2784],\n",
              "          [-0.3098, -0.3098, -0.3412,  ...,  0.1059,  0.1686,  0.1686],\n",
              "          ...,\n",
              "          [-0.7882, -0.7882, -0.6314,  ...,  0.0745,  0.1373,  0.1373],\n",
              "          [-0.8510, -0.8510, -0.6706,  ..., -0.0196,  0.0196,  0.0196],\n",
              "          [-0.8510, -0.8510, -0.6706,  ..., -0.0196,  0.0196,  0.0196]],\n",
              "\n",
              "         [[-0.5529, -0.5529, -0.4510,  ...,  0.6000,  0.7412,  0.7412],\n",
              "          [-0.5529, -0.5529, -0.4510,  ...,  0.6000,  0.7412,  0.7412],\n",
              "          [-0.3804, -0.3804, -0.3020,  ...,  0.5373,  0.6627,  0.6627],\n",
              "          ...,\n",
              "          [ 0.1451,  0.1451,  0.0275,  ..., -0.4275, -0.5137, -0.5137],\n",
              "          [ 0.0353,  0.0353, -0.0745,  ..., -0.5608, -0.6627, -0.6627],\n",
              "          [ 0.0353,  0.0353, -0.0745,  ..., -0.5608, -0.6627, -0.6627]]],\n",
              "\n",
              "\n",
              "        [[[-0.0667, -0.0667, -0.1686,  ..., -0.8275, -0.8353, -0.8353],\n",
              "          [-0.0667, -0.0667, -0.1686,  ..., -0.8275, -0.8353, -0.8353],\n",
              "          [-0.0118, -0.0118, -0.1137,  ..., -0.7176, -0.7333, -0.7333],\n",
              "          ...,\n",
              "          [-0.4667, -0.4667, -0.3412,  ...,  0.3412,  0.4824,  0.4824],\n",
              "          [-0.6706, -0.6706, -0.5216,  ...,  0.3961,  0.5765,  0.5765],\n",
              "          [-0.6706, -0.6706, -0.5216,  ...,  0.3961,  0.5765,  0.5765]],\n",
              "\n",
              "         [[-0.5216, -0.5216, -0.3961,  ..., -0.0902,  0.0353,  0.0353],\n",
              "          [-0.5216, -0.5216, -0.3961,  ..., -0.0902,  0.0353,  0.0353],\n",
              "          [-0.5137, -0.5137, -0.3961,  ..., -0.1216, -0.0275, -0.0275],\n",
              "          ...,\n",
              "          [ 0.7176,  0.7176,  0.7098,  ..., -0.7333, -0.9529, -0.9529],\n",
              "          [ 0.8118,  0.8118,  0.8118,  ..., -0.7569, -1.0000, -1.0000],\n",
              "          [ 0.8118,  0.8118,  0.8118,  ..., -0.7569, -1.0000, -1.0000]],\n",
              "\n",
              "         [[-0.0510, -0.0510, -0.0118,  ..., -0.1451, -0.3020, -0.3020],\n",
              "          [-0.0510, -0.0510, -0.0118,  ..., -0.1451, -0.3020, -0.3020],\n",
              "          [-0.0196, -0.0196,  0.0118,  ..., -0.1529, -0.3098, -0.3098],\n",
              "          ...,\n",
              "          [-0.1294, -0.1294, -0.0980,  ...,  0.1294,  0.0275,  0.0275],\n",
              "          [-0.2627, -0.2627, -0.2157,  ...,  0.0588, -0.0588, -0.0588],\n",
              "          [-0.2627, -0.2627, -0.2157,  ...,  0.0588, -0.0588, -0.0588]]],\n",
              "\n",
              "\n",
              "        ...,\n",
              "\n",
              "\n",
              "        [[[-0.0510, -0.0510,  0.0039,  ...,  0.4196,  0.5451,  0.5451],\n",
              "          [-0.0510, -0.0510,  0.0039,  ...,  0.4196,  0.5451,  0.5451],\n",
              "          [ 0.0118,  0.0118,  0.0588,  ...,  0.3255,  0.4353,  0.4353],\n",
              "          ...,\n",
              "          [-0.5608, -0.5608, -0.5373,  ..., -0.6706, -0.8902, -0.8902],\n",
              "          [-0.6314, -0.6314, -0.5922,  ..., -0.7490, -0.9843, -0.9843],\n",
              "          [-0.6314, -0.6314, -0.5922,  ..., -0.7490, -0.9843, -0.9843]],\n",
              "\n",
              "         [[-0.5451, -0.5451, -0.4588,  ..., -0.6000, -0.6314, -0.6314],\n",
              "          [-0.5451, -0.5451, -0.4588,  ..., -0.6000, -0.6314, -0.6314],\n",
              "          [-0.4275, -0.4275, -0.3490,  ..., -0.5373, -0.5765, -0.5765],\n",
              "          ...,\n",
              "          [ 0.0118,  0.0118, -0.0431,  ...,  0.4275,  0.4039,  0.4039],\n",
              "          [-0.1294, -0.1294, -0.1608,  ...,  0.5294,  0.5137,  0.5137],\n",
              "          [-0.1294, -0.1294, -0.1608,  ...,  0.5294,  0.5137,  0.5137]],\n",
              "\n",
              "         [[-0.2314, -0.2314, -0.1137,  ...,  0.3569,  0.5059,  0.5059],\n",
              "          [-0.2314, -0.2314, -0.1137,  ...,  0.3569,  0.5059,  0.5059],\n",
              "          [-0.2471, -0.2471, -0.1529,  ...,  0.3490,  0.4980,  0.4980],\n",
              "          ...,\n",
              "          [-0.2549, -0.2549, -0.2157,  ...,  0.5373,  0.6078,  0.6078],\n",
              "          [-0.3333, -0.3333, -0.2863,  ...,  0.7020,  0.7804,  0.7804],\n",
              "          [-0.3333, -0.3333, -0.2863,  ...,  0.7020,  0.7804,  0.7804]]],\n",
              "\n",
              "\n",
              "        [[[ 0.9451,  0.9451,  0.7961,  ...,  0.3569,  0.3490,  0.3490],\n",
              "          [ 0.9451,  0.9451,  0.7961,  ...,  0.3569,  0.3490,  0.3490],\n",
              "          [ 0.8039,  0.8039,  0.6784,  ...,  0.3176,  0.2941,  0.2941],\n",
              "          ...,\n",
              "          [-0.1216, -0.1216, -0.1059,  ...,  0.6078,  0.6784,  0.6784],\n",
              "          [-0.1451, -0.1451, -0.1216,  ...,  0.6706,  0.7333,  0.7333],\n",
              "          [-0.1451, -0.1451, -0.1216,  ...,  0.6706,  0.7333,  0.7333]],\n",
              "\n",
              "         [[ 0.4431,  0.4431,  0.3098,  ..., -0.8824, -0.9922, -0.9922],\n",
              "          [ 0.4431,  0.4431,  0.3098,  ..., -0.8824, -0.9922, -0.9922],\n",
              "          [ 0.3333,  0.3333,  0.2157,  ..., -0.8510, -0.9608, -0.9608],\n",
              "          ...,\n",
              "          [ 0.4118,  0.4118,  0.3255,  ..., -0.7333, -0.7569, -0.7569],\n",
              "          [ 0.6000,  0.6000,  0.4980,  ..., -0.9216, -0.9686, -0.9686],\n",
              "          [ 0.6000,  0.6000,  0.4980,  ..., -0.9216, -0.9686, -0.9686]],\n",
              "\n",
              "         [[ 0.4353,  0.4353,  0.4824,  ...,  0.3804,  0.4588,  0.4588],\n",
              "          [ 0.4353,  0.4353,  0.4824,  ...,  0.3804,  0.4588,  0.4588],\n",
              "          [ 0.3176,  0.3176,  0.3569,  ...,  0.4510,  0.5294,  0.5294],\n",
              "          ...,\n",
              "          [ 0.8275,  0.8275,  0.6471,  ...,  0.4510,  0.6078,  0.6078],\n",
              "          [ 0.8588,  0.8588,  0.6627,  ...,  0.4510,  0.6235,  0.6235],\n",
              "          [ 0.8588,  0.8588,  0.6627,  ...,  0.4510,  0.6235,  0.6235]]],\n",
              "\n",
              "\n",
              "        [[[-0.7020, -0.7020, -0.5608,  ..., -0.2157, -0.2863, -0.2863],\n",
              "          [-0.7020, -0.7020, -0.5608,  ..., -0.2157, -0.2863, -0.2863],\n",
              "          [-0.5294, -0.5294, -0.3961,  ..., -0.1843, -0.2314, -0.2314],\n",
              "          ...,\n",
              "          [-0.4431, -0.4431, -0.3176,  ...,  0.2627,  0.2706,  0.2706],\n",
              "          [-0.5922, -0.5922, -0.4196,  ...,  0.3490,  0.3412,  0.3412],\n",
              "          [-0.5922, -0.5922, -0.4196,  ...,  0.3490,  0.3412,  0.3412]],\n",
              "\n",
              "         [[ 0.5451,  0.5451,  0.5294,  ..., -0.6706, -0.7020, -0.7020],\n",
              "          [ 0.5451,  0.5451,  0.5294,  ..., -0.6706, -0.7020, -0.7020],\n",
              "          [ 0.4353,  0.4353,  0.4275,  ..., -0.6863, -0.7333, -0.7333],\n",
              "          ...,\n",
              "          [ 0.6549,  0.6549,  0.5843,  ...,  0.2157,  0.1765,  0.1765],\n",
              "          [ 0.8196,  0.8196,  0.7176,  ...,  0.2627,  0.2392,  0.2392],\n",
              "          [ 0.8196,  0.8196,  0.7176,  ...,  0.2627,  0.2392,  0.2392]],\n",
              "\n",
              "         [[ 0.1686,  0.1686,  0.2549,  ...,  0.3647,  0.4196,  0.4196],\n",
              "          [ 0.1686,  0.1686,  0.2549,  ...,  0.3647,  0.4196,  0.4196],\n",
              "          [ 0.0431,  0.0431,  0.1294,  ...,  0.2706,  0.2941,  0.2941],\n",
              "          ...,\n",
              "          [ 0.7098,  0.7098,  0.6941,  ...,  0.0510, -0.0510, -0.0510],\n",
              "          [ 0.9216,  0.9216,  0.8745,  ...,  0.0275, -0.0980, -0.0980],\n",
              "          [ 0.9216,  0.9216,  0.8745,  ...,  0.0275, -0.0980, -0.0980]]]])"
            ]
          },
          "metadata": {},
          "execution_count": 76
        }
      ]
    }
  ]
}